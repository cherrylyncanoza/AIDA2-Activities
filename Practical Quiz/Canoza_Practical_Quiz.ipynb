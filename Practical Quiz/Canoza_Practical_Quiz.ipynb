{
  "nbformat": 4,
  "nbformat_minor": 0,
  "metadata": {
    "colab": {
      "provenance": [],
      "collapsed_sections": [],
      "include_colab_link": true
    },
    "kernelspec": {
      "name": "python3",
      "display_name": "Python 3"
    },
    "language_info": {
      "name": "python"
    }
  },
  "cells": [
    {
      "cell_type": "markdown",
      "metadata": {
        "id": "view-in-github",
        "colab_type": "text"
      },
      "source": [
        "<a href=\"https://colab.research.google.com/github/cherrylyncanoza/AIDA2-Activities/blob/main/Practical%20Quiz/Canoza_Practical_Quiz.ipynb\" target=\"_parent\"><img src=\"https://colab.research.google.com/assets/colab-badge.svg\" alt=\"Open In Colab\"/></a>"
      ]
    },
    {
      "cell_type": "markdown",
      "source": [
        "#**Practical Quiz**\n",
        "###Canoza, Cherrylyn S.\n",
        "###201913191\n"
      ],
      "metadata": {
        "id": "CgQdF0hjKmQc"
      }
    },
    {
      "cell_type": "code",
      "source": [
        "import numpy as np\n",
        "import matplotlib.pyplot as plt\n",
        "import pandas as pd\n",
        "import seaborn as seabornInstance \n",
        "from sklearn.model_selection import train_test_split \n",
        "from sklearn.linear_model import LinearRegression\n",
        "from sklearn import metrics\n",
        "%matplotlib inline"
      ],
      "metadata": {
        "id": "EH8Z4B71AnA6"
      },
      "execution_count": 81,
      "outputs": []
    },
    {
      "cell_type": "markdown",
      "source": [
        "##1. Read the dataset in xls file"
      ],
      "metadata": {
        "id": "mdqt0JixRNYR"
      }
    },
    {
      "cell_type": "code",
      "source": [
        "###Pokemon excel file converted into csv\n",
        "pokemon_dataset = pd.read_csv(\"https://github.com/cherrylyncanoza/AIDA2-Activities/blob/main/Practical%20Quiz/pokemon.csv?raw=true\", encoding='unicode_escape')\n",
        "pokemon_dataset"
      ],
      "metadata": {
        "colab": {
          "base_uri": "https://localhost:8080/",
          "height": 424
        },
        "id": "bdwbeJMdMz1b",
        "outputId": "2117966f-dd6e-42b7-cd7a-a2ddb8b5d749"
      },
      "execution_count": 33,
      "outputs": [
        {
          "output_type": "execute_result",
          "data": {
            "text/plain": [
              "         #       Name    Type  Total   HP  Attack  Defense  Special Attack  \\\n",
              "0      001  Bulbasaur   GRASS    318   45      49       49              65   \n",
              "1      001  Bulbasaur  POISON    318   45      49       49              65   \n",
              "2      002    Ivysaur   GRASS    405   60      62       63              80   \n",
              "3      002    Ivysaur  POISON    405   60      62       63              80   \n",
              "4      003   Venusaur   GRASS    525   80      82       83             100   \n",
              "...    ...        ...     ...    ...  ...     ...      ...             ...   \n",
              "1163   716    Xerneas   FAIRY    680  126     131       95             131   \n",
              "1164   717    Yveltal    DARK    680  126     131       95             131   \n",
              "1165   717    Yveltal  FLYING    680  126     131       95             131   \n",
              "1166   718    Zygarde  DRAGON    600  108     100      121              81   \n",
              "1167   718    Zygarde  GROUND    600  108     100      121              81   \n",
              "\n",
              "      Special Defense  Speed  \n",
              "0                  65     45  \n",
              "1                  65     45  \n",
              "2                  80     60  \n",
              "3                  80     60  \n",
              "4                 100     80  \n",
              "...               ...    ...  \n",
              "1163               98     99  \n",
              "1164               98     99  \n",
              "1165               98     99  \n",
              "1166               95     95  \n",
              "1167               95     95  \n",
              "\n",
              "[1168 rows x 10 columns]"
            ],
            "text/html": [
              "\n",
              "  <div id=\"df-b9da3184-f640-4847-8557-739207cf9089\">\n",
              "    <div class=\"colab-df-container\">\n",
              "      <div>\n",
              "<style scoped>\n",
              "    .dataframe tbody tr th:only-of-type {\n",
              "        vertical-align: middle;\n",
              "    }\n",
              "\n",
              "    .dataframe tbody tr th {\n",
              "        vertical-align: top;\n",
              "    }\n",
              "\n",
              "    .dataframe thead th {\n",
              "        text-align: right;\n",
              "    }\n",
              "</style>\n",
              "<table border=\"1\" class=\"dataframe\">\n",
              "  <thead>\n",
              "    <tr style=\"text-align: right;\">\n",
              "      <th></th>\n",
              "      <th>#</th>\n",
              "      <th>Name</th>\n",
              "      <th>Type</th>\n",
              "      <th>Total</th>\n",
              "      <th>HP</th>\n",
              "      <th>Attack</th>\n",
              "      <th>Defense</th>\n",
              "      <th>Special Attack</th>\n",
              "      <th>Special Defense</th>\n",
              "      <th>Speed</th>\n",
              "    </tr>\n",
              "  </thead>\n",
              "  <tbody>\n",
              "    <tr>\n",
              "      <th>0</th>\n",
              "      <td>001</td>\n",
              "      <td>Bulbasaur</td>\n",
              "      <td>GRASS</td>\n",
              "      <td>318</td>\n",
              "      <td>45</td>\n",
              "      <td>49</td>\n",
              "      <td>49</td>\n",
              "      <td>65</td>\n",
              "      <td>65</td>\n",
              "      <td>45</td>\n",
              "    </tr>\n",
              "    <tr>\n",
              "      <th>1</th>\n",
              "      <td>001</td>\n",
              "      <td>Bulbasaur</td>\n",
              "      <td>POISON</td>\n",
              "      <td>318</td>\n",
              "      <td>45</td>\n",
              "      <td>49</td>\n",
              "      <td>49</td>\n",
              "      <td>65</td>\n",
              "      <td>65</td>\n",
              "      <td>45</td>\n",
              "    </tr>\n",
              "    <tr>\n",
              "      <th>2</th>\n",
              "      <td>002</td>\n",
              "      <td>Ivysaur</td>\n",
              "      <td>GRASS</td>\n",
              "      <td>405</td>\n",
              "      <td>60</td>\n",
              "      <td>62</td>\n",
              "      <td>63</td>\n",
              "      <td>80</td>\n",
              "      <td>80</td>\n",
              "      <td>60</td>\n",
              "    </tr>\n",
              "    <tr>\n",
              "      <th>3</th>\n",
              "      <td>002</td>\n",
              "      <td>Ivysaur</td>\n",
              "      <td>POISON</td>\n",
              "      <td>405</td>\n",
              "      <td>60</td>\n",
              "      <td>62</td>\n",
              "      <td>63</td>\n",
              "      <td>80</td>\n",
              "      <td>80</td>\n",
              "      <td>60</td>\n",
              "    </tr>\n",
              "    <tr>\n",
              "      <th>4</th>\n",
              "      <td>003</td>\n",
              "      <td>Venusaur</td>\n",
              "      <td>GRASS</td>\n",
              "      <td>525</td>\n",
              "      <td>80</td>\n",
              "      <td>82</td>\n",
              "      <td>83</td>\n",
              "      <td>100</td>\n",
              "      <td>100</td>\n",
              "      <td>80</td>\n",
              "    </tr>\n",
              "    <tr>\n",
              "      <th>...</th>\n",
              "      <td>...</td>\n",
              "      <td>...</td>\n",
              "      <td>...</td>\n",
              "      <td>...</td>\n",
              "      <td>...</td>\n",
              "      <td>...</td>\n",
              "      <td>...</td>\n",
              "      <td>...</td>\n",
              "      <td>...</td>\n",
              "      <td>...</td>\n",
              "    </tr>\n",
              "    <tr>\n",
              "      <th>1163</th>\n",
              "      <td>716</td>\n",
              "      <td>Xerneas</td>\n",
              "      <td>FAIRY</td>\n",
              "      <td>680</td>\n",
              "      <td>126</td>\n",
              "      <td>131</td>\n",
              "      <td>95</td>\n",
              "      <td>131</td>\n",
              "      <td>98</td>\n",
              "      <td>99</td>\n",
              "    </tr>\n",
              "    <tr>\n",
              "      <th>1164</th>\n",
              "      <td>717</td>\n",
              "      <td>Yveltal</td>\n",
              "      <td>DARK</td>\n",
              "      <td>680</td>\n",
              "      <td>126</td>\n",
              "      <td>131</td>\n",
              "      <td>95</td>\n",
              "      <td>131</td>\n",
              "      <td>98</td>\n",
              "      <td>99</td>\n",
              "    </tr>\n",
              "    <tr>\n",
              "      <th>1165</th>\n",
              "      <td>717</td>\n",
              "      <td>Yveltal</td>\n",
              "      <td>FLYING</td>\n",
              "      <td>680</td>\n",
              "      <td>126</td>\n",
              "      <td>131</td>\n",
              "      <td>95</td>\n",
              "      <td>131</td>\n",
              "      <td>98</td>\n",
              "      <td>99</td>\n",
              "    </tr>\n",
              "    <tr>\n",
              "      <th>1166</th>\n",
              "      <td>718</td>\n",
              "      <td>Zygarde</td>\n",
              "      <td>DRAGON</td>\n",
              "      <td>600</td>\n",
              "      <td>108</td>\n",
              "      <td>100</td>\n",
              "      <td>121</td>\n",
              "      <td>81</td>\n",
              "      <td>95</td>\n",
              "      <td>95</td>\n",
              "    </tr>\n",
              "    <tr>\n",
              "      <th>1167</th>\n",
              "      <td>718</td>\n",
              "      <td>Zygarde</td>\n",
              "      <td>GROUND</td>\n",
              "      <td>600</td>\n",
              "      <td>108</td>\n",
              "      <td>100</td>\n",
              "      <td>121</td>\n",
              "      <td>81</td>\n",
              "      <td>95</td>\n",
              "      <td>95</td>\n",
              "    </tr>\n",
              "  </tbody>\n",
              "</table>\n",
              "<p>1168 rows × 10 columns</p>\n",
              "</div>\n",
              "      <button class=\"colab-df-convert\" onclick=\"convertToInteractive('df-b9da3184-f640-4847-8557-739207cf9089')\"\n",
              "              title=\"Convert this dataframe to an interactive table.\"\n",
              "              style=\"display:none;\">\n",
              "        \n",
              "  <svg xmlns=\"http://www.w3.org/2000/svg\" height=\"24px\"viewBox=\"0 0 24 24\"\n",
              "       width=\"24px\">\n",
              "    <path d=\"M0 0h24v24H0V0z\" fill=\"none\"/>\n",
              "    <path d=\"M18.56 5.44l.94 2.06.94-2.06 2.06-.94-2.06-.94-.94-2.06-.94 2.06-2.06.94zm-11 1L8.5 8.5l.94-2.06 2.06-.94-2.06-.94L8.5 2.5l-.94 2.06-2.06.94zm10 10l.94 2.06.94-2.06 2.06-.94-2.06-.94-.94-2.06-.94 2.06-2.06.94z\"/><path d=\"M17.41 7.96l-1.37-1.37c-.4-.4-.92-.59-1.43-.59-.52 0-1.04.2-1.43.59L10.3 9.45l-7.72 7.72c-.78.78-.78 2.05 0 2.83L4 21.41c.39.39.9.59 1.41.59.51 0 1.02-.2 1.41-.59l7.78-7.78 2.81-2.81c.8-.78.8-2.07 0-2.86zM5.41 20L4 18.59l7.72-7.72 1.47 1.35L5.41 20z\"/>\n",
              "  </svg>\n",
              "      </button>\n",
              "      \n",
              "  <style>\n",
              "    .colab-df-container {\n",
              "      display:flex;\n",
              "      flex-wrap:wrap;\n",
              "      gap: 12px;\n",
              "    }\n",
              "\n",
              "    .colab-df-convert {\n",
              "      background-color: #E8F0FE;\n",
              "      border: none;\n",
              "      border-radius: 50%;\n",
              "      cursor: pointer;\n",
              "      display: none;\n",
              "      fill: #1967D2;\n",
              "      height: 32px;\n",
              "      padding: 0 0 0 0;\n",
              "      width: 32px;\n",
              "    }\n",
              "\n",
              "    .colab-df-convert:hover {\n",
              "      background-color: #E2EBFA;\n",
              "      box-shadow: 0px 1px 2px rgba(60, 64, 67, 0.3), 0px 1px 3px 1px rgba(60, 64, 67, 0.15);\n",
              "      fill: #174EA6;\n",
              "    }\n",
              "\n",
              "    [theme=dark] .colab-df-convert {\n",
              "      background-color: #3B4455;\n",
              "      fill: #D2E3FC;\n",
              "    }\n",
              "\n",
              "    [theme=dark] .colab-df-convert:hover {\n",
              "      background-color: #434B5C;\n",
              "      box-shadow: 0px 1px 3px 1px rgba(0, 0, 0, 0.15);\n",
              "      filter: drop-shadow(0px 1px 2px rgba(0, 0, 0, 0.3));\n",
              "      fill: #FFFFFF;\n",
              "    }\n",
              "  </style>\n",
              "\n",
              "      <script>\n",
              "        const buttonEl =\n",
              "          document.querySelector('#df-b9da3184-f640-4847-8557-739207cf9089 button.colab-df-convert');\n",
              "        buttonEl.style.display =\n",
              "          google.colab.kernel.accessAllowed ? 'block' : 'none';\n",
              "\n",
              "        async function convertToInteractive(key) {\n",
              "          const element = document.querySelector('#df-b9da3184-f640-4847-8557-739207cf9089');\n",
              "          const dataTable =\n",
              "            await google.colab.kernel.invokeFunction('convertToInteractive',\n",
              "                                                     [key], {});\n",
              "          if (!dataTable) return;\n",
              "\n",
              "          const docLinkHtml = 'Like what you see? Visit the ' +\n",
              "            '<a target=\"_blank\" href=https://colab.research.google.com/notebooks/data_table.ipynb>data table notebook</a>'\n",
              "            + ' to learn more about interactive tables.';\n",
              "          element.innerHTML = '';\n",
              "          dataTable['output_type'] = 'display_data';\n",
              "          await google.colab.output.renderOutput(dataTable, element);\n",
              "          const docLink = document.createElement('div');\n",
              "          docLink.innerHTML = docLinkHtml;\n",
              "          element.appendChild(docLink);\n",
              "        }\n",
              "      </script>\n",
              "    </div>\n",
              "  </div>\n",
              "  "
            ]
          },
          "metadata": {},
          "execution_count": 33
        }
      ]
    },
    {
      "cell_type": "markdown",
      "source": [
        "##2. Clean the data if not yet cleaned.\n",
        "##3. Create a python program that will show the descriptive analysis of the datasets (Count, min, max, standard deviation, 75%,50%, and 25%)"
      ],
      "metadata": {
        "id": "bZRBFZ0RRfl5"
      }
    },
    {
      "cell_type": "code",
      "source": [
        "def descriptive_analysis (data):\n",
        "  data.drop_duplicates(inplace = True) ###To remove all the duplicate: \n",
        "  data.dropna(inplace = True) ###To remove the missing data:\n",
        "\n",
        "  ###Checking the percentage of the missing data for every column in file: \n",
        "  for col in data.columns:\n",
        "    pct_missing = np.mean(data[col].isnull())\n",
        "    print('Percentage of the missing data per column: {} - {}%'.format(col, round(pct_missing*100)))\n",
        "\n",
        "  ###For the Descriptive Analysis:\n",
        "  descriptive = data.describe()\n",
        "  print(f'\\n\\nThe Descriptive Analysis of the Data:\\n',descriptive)"
      ],
      "metadata": {
        "id": "htVgGoRiR2KB"
      },
      "execution_count": 34,
      "outputs": []
    },
    {
      "cell_type": "code",
      "source": [
        "descriptive_analysis(pokemon_dataset)"
      ],
      "metadata": {
        "colab": {
          "base_uri": "https://localhost:8080/"
        },
        "id": "xxIa4x27SpGh",
        "outputId": "b74104de-e446-4837-f605-d4ed28c826ce"
      },
      "execution_count": 35,
      "outputs": [
        {
          "output_type": "stream",
          "name": "stdout",
          "text": [
            "Percentage of the missing data per column: # - 0%\n",
            "Percentage of the missing data per column: Name - 0%\n",
            "Percentage of the missing data per column: Type - 0%\n",
            "Percentage of the missing data per column: Total - 0%\n",
            "Percentage of the missing data per column: HP - 0%\n",
            "Percentage of the missing data per column: Attack - 0%\n",
            "Percentage of the missing data per column: Defense - 0%\n",
            "Percentage of the missing data per column: Special Attack - 0%\n",
            "Percentage of the missing data per column: Special Defense - 0%\n",
            "Percentage of the missing data per column: Speed - 0%\n",
            "\n",
            "\n",
            "The Descriptive Analysis of the Data:\n",
            "              Total           HP       Attack      Defense  Special Attack  \\\n",
            "count  1158.000000  1158.000000  1158.000000  1158.000000     1158.000000   \n",
            "mean    434.243523    69.416235    78.405872    74.200345       72.333333   \n",
            "std     115.863349    24.954745    31.445405    30.504878       31.483754   \n",
            "min     180.000000     1.000000     5.000000     5.000000       10.000000   \n",
            "25%     330.000000    50.000000    55.000000    50.000000       50.000000   \n",
            "50%     450.000000    65.000000    75.000000    70.000000       65.000000   \n",
            "75%     510.000000    82.000000    97.750000    90.000000       95.000000   \n",
            "max     780.000000   255.000000   190.000000   230.000000      194.000000   \n",
            "\n",
            "       Special Defense        Speed  \n",
            "count      1158.000000  1158.000000  \n",
            "mean         71.589810    68.297927  \n",
            "std          27.286631    28.155762  \n",
            "min          20.000000     5.000000  \n",
            "25%          50.000000    46.000000  \n",
            "50%          70.000000    65.000000  \n",
            "75%          89.750000    90.000000  \n",
            "max         230.000000   180.000000  \n"
          ]
        }
      ]
    },
    {
      "cell_type": "markdown",
      "source": [
        "##4. Draw a scatter plot"
      ],
      "metadata": {
        "id": "v4UBp_6VS43G"
      }
    },
    {
      "cell_type": "code",
      "source": [
        "plot1 = pokemon_dataset.plot(kind='scatter', x='Attack', y='Defense', color='#B2AC88')    \n",
        "plot2 = pokemon_dataset.plot(kind='scatter', x='Special Attack', y='Special Defense', color='#B0808C')    \n",
        "plot3 = pokemon_dataset.plot(kind='scatter', x='HP', y='Speed', color='#A9BD93')"
      ],
      "metadata": {
        "colab": {
          "base_uri": "https://localhost:8080/",
          "height": 803
        },
        "id": "tB1Zt8MZS4Jw",
        "outputId": "ddcf3eed-1504-4161-a866-01f4be01c6a9"
      },
      "execution_count": 38,
      "outputs": [
        {
          "output_type": "display_data",
          "data": {
            "text/plain": [
              "<Figure size 432x288 with 1 Axes>"
            ],
            "image/png": "[encoded data removed]"
          },
          "metadata": {
            "needs_background": "light"
          }
        },
        {
          "output_type": "display_data",
          "data": {
            "text/plain": [
              "<Figure size 432x288 with 1 Axes>"
            ],
            "image/png": "[encoded data removed]"
          },
          "metadata": {
            "needs_background": "light"
          }
        },
        {
          "output_type": "display_data",
          "data": {
            "text/plain": [
              "<Figure size 432x288 with 1 Axes>"
            ],
            "image/png": "[encoded data removed]"
          },
          "metadata": {
            "needs_background": "light"
          }
        }
      ]
    },
    {
      "cell_type": "markdown",
      "source": [
        "##5. Create a python program that will plot and show the regression line and regression coefficient."
      ],
      "metadata": {
        "id": "zbrp39isUCVw"
      }
    },
    {
      "cell_type": "code",
      "source": [
        "X = pokemon_dataset['Attack'].values.reshape(-1,1) ###Reshaping the file \n",
        "y = pokemon_dataset['Defense'].values.reshape(-1,1) ###Reshaping the file \n",
        "\n",
        "###Training Algorithm\n",
        "X_train, X_test, y_train, y_test = train_test_split(X, y, test_size=0.2, random_state=0) \n",
        "regressor = LinearRegression()  \n",
        "regressor.fit(X_train, y_train)\n",
        "\n",
        "regressor.fit(X_train, y_train)\n",
        "y_pred = regressor.predict(X_test)\n",
        "\n",
        "print(f'Regression intercept:', regressor.intercept_) ###retrieving the intercept:\n",
        "\n",
        "print(f'Regression Coefficient:' ,regressor.coef_) ###retrieving the slope:\n",
        "\n",
        "###Plotting\n",
        "plt.scatter(X_test, y_test, color=\"#B2AC88\")\n",
        "plt.plot(X_test, y_pred, color=\"black\", linewidth=2)\n",
        "plt.xlabel(\"Attack\")\n",
        "plt.ylabel(\"Defense\")\n",
        "plt.show()"
      ],
      "metadata": {
        "colab": {
          "base_uri": "https://localhost:8080/",
          "height": 314
        },
        "id": "DDilS9TGT_9I",
        "outputId": "af74491a-ca29-4990-9c70-574b380e3948"
      },
      "execution_count": 72,
      "outputs": [
        {
          "output_type": "stream",
          "name": "stdout",
          "text": [
            "Regression intercept: [44.02472472]\n",
            "Regression Coefficient: [[0.39360495]]\n"
          ]
        },
        {
          "output_type": "display_data",
          "data": {
            "text/plain": [
              "<Figure size 432x288 with 1 Axes>"
            ],
            "image/png": "[encoded data removed]"
          },
          "metadata": {
            "needs_background": "light"
          }
        }
      ]
    },
    {
      "cell_type": "markdown",
      "source": [
        "## 6. Create a python code to predict future values. Is linear regression the appropriate method to use to predict future values? Why?"
      ],
      "metadata": {
        "id": "5QGTEEFEWjy_"
      }
    },
    {
      "cell_type": "markdown",
      "source": [
        "##**Answer:** Linear Regression is commonly used for predictive analysis therefore, it is the appropriate method to use for predicting future values if right amount of data is given. It explains and helps to understand the relationship of each data to each other that can predict situations and future outcomes."
      ],
      "metadata": {
        "id": "SWH0VPepW93X"
      }
    },
    {
      "cell_type": "code",
      "source": [
        "y_pred = regressor.predict(X_test)\n",
        "\n",
        "future_values = pd.DataFrame({'Actual': y_test.flatten(), 'Predicted': y_pred.flatten()})\n",
        "future_values"
      ],
      "metadata": {
        "colab": {
          "base_uri": "https://localhost:8080/",
          "height": 424
        },
        "id": "ZptTDf9-WXwA",
        "outputId": "fb135a47-26d2-4598-884e-ceb9b7dbd015"
      },
      "execution_count": 80,
      "outputs": [
        {
          "output_type": "execute_result",
          "data": {
            "text/plain": [
              "     Actual   Predicted\n",
              "0        60   64.492182\n",
              "1       122   86.140454\n",
              "2        86   67.641022\n",
              "3       140   79.449170\n",
              "4        55   72.757886\n",
              "..      ...         ...\n",
              "227     110  107.001516\n",
              "228      90   87.321269\n",
              "229      20   79.449170\n",
              "230      55   75.513121\n",
              "231      30   57.800898\n",
              "\n",
              "[232 rows x 2 columns]"
            ],
            "text/html": [
              "\n",
              "  <div id=\"df-7df9486b-acd4-430c-ad9e-d27dc2ba3a8e\">\n",
              "    <div class=\"colab-df-container\">\n",
              "      <div>\n",
              "<style scoped>\n",
              "    .dataframe tbody tr th:only-of-type {\n",
              "        vertical-align: middle;\n",
              "    }\n",
              "\n",
              "    .dataframe tbody tr th {\n",
              "        vertical-align: top;\n",
              "    }\n",
              "\n",
              "    .dataframe thead th {\n",
              "        text-align: right;\n",
              "    }\n",
              "</style>\n",
              "<table border=\"1\" class=\"dataframe\">\n",
              "  <thead>\n",
              "    <tr style=\"text-align: right;\">\n",
              "      <th></th>\n",
              "      <th>Actual</th>\n",
              "      <th>Predicted</th>\n",
              "    </tr>\n",
              "  </thead>\n",
              "  <tbody>\n",
              "    <tr>\n",
              "      <th>0</th>\n",
              "      <td>60</td>\n",
              "      <td>64.492182</td>\n",
              "    </tr>\n",
              "    <tr>\n",
              "      <th>1</th>\n",
              "      <td>122</td>\n",
              "      <td>86.140454</td>\n",
              "    </tr>\n",
              "    <tr>\n",
              "      <th>2</th>\n",
              "      <td>86</td>\n",
              "      <td>67.641022</td>\n",
              "    </tr>\n",
              "    <tr>\n",
              "      <th>3</th>\n",
              "      <td>140</td>\n",
              "      <td>79.449170</td>\n",
              "    </tr>\n",
              "    <tr>\n",
              "      <th>4</th>\n",
              "      <td>55</td>\n",
              "      <td>72.757886</td>\n",
              "    </tr>\n",
              "    <tr>\n",
              "      <th>...</th>\n",
              "      <td>...</td>\n",
              "      <td>...</td>\n",
              "    </tr>\n",
              "    <tr>\n",
              "      <th>227</th>\n",
              "      <td>110</td>\n",
              "      <td>107.001516</td>\n",
              "    </tr>\n",
              "    <tr>\n",
              "      <th>228</th>\n",
              "      <td>90</td>\n",
              "      <td>87.321269</td>\n",
              "    </tr>\n",
              "    <tr>\n",
              "      <th>229</th>\n",
              "      <td>20</td>\n",
              "      <td>79.449170</td>\n",
              "    </tr>\n",
              "    <tr>\n",
              "      <th>230</th>\n",
              "      <td>55</td>\n",
              "      <td>75.513121</td>\n",
              "    </tr>\n",
              "    <tr>\n",
              "      <th>231</th>\n",
              "      <td>30</td>\n",
              "      <td>57.800898</td>\n",
              "    </tr>\n",
              "  </tbody>\n",
              "</table>\n",
              "<p>232 rows × 2 columns</p>\n",
              "</div>\n",
              "      <button class=\"colab-df-convert\" onclick=\"convertToInteractive('df-7df9486b-acd4-430c-ad9e-d27dc2ba3a8e')\"\n",
              "              title=\"Convert this dataframe to an interactive table.\"\n",
              "              style=\"display:none;\">\n",
              "        \n",
              "  <svg xmlns=\"http://www.w3.org/2000/svg\" height=\"24px\"viewBox=\"0 0 24 24\"\n",
              "       width=\"24px\">\n",
              "    <path d=\"M0 0h24v24H0V0z\" fill=\"none\"/>\n",
              "    <path d=\"M18.56 5.44l.94 2.06.94-2.06 2.06-.94-2.06-.94-.94-2.06-.94 2.06-2.06.94zm-11 1L8.5 8.5l.94-2.06 2.06-.94-2.06-.94L8.5 2.5l-.94 2.06-2.06.94zm10 10l.94 2.06.94-2.06 2.06-.94-2.06-.94-.94-2.06-.94 2.06-2.06.94z\"/><path d=\"M17.41 7.96l-1.37-1.37c-.4-.4-.92-.59-1.43-.59-.52 0-1.04.2-1.43.59L10.3 9.45l-7.72 7.72c-.78.78-.78 2.05 0 2.83L4 21.41c.39.39.9.59 1.41.59.51 0 1.02-.2 1.41-.59l7.78-7.78 2.81-2.81c.8-.78.8-2.07 0-2.86zM5.41 20L4 18.59l7.72-7.72 1.47 1.35L5.41 20z\"/>\n",
              "  </svg>\n",
              "      </button>\n",
              "      \n",
              "  <style>\n",
              "    .colab-df-container {\n",
              "      display:flex;\n",
              "      flex-wrap:wrap;\n",
              "      gap: 12px;\n",
              "    }\n",
              "\n",
              "    .colab-df-convert {\n",
              "      background-color: #E8F0FE;\n",
              "      border: none;\n",
              "      border-radius: 50%;\n",
              "      cursor: pointer;\n",
              "      display: none;\n",
              "      fill: #1967D2;\n",
              "      height: 32px;\n",
              "      padding: 0 0 0 0;\n",
              "      width: 32px;\n",
              "    }\n",
              "\n",
              "    .colab-df-convert:hover {\n",
              "      background-color: #E2EBFA;\n",
              "      box-shadow: 0px 1px 2px rgba(60, 64, 67, 0.3), 0px 1px 3px 1px rgba(60, 64, 67, 0.15);\n",
              "      fill: #174EA6;\n",
              "    }\n",
              "\n",
              "    [theme=dark] .colab-df-convert {\n",
              "      background-color: #3B4455;\n",
              "      fill: #D2E3FC;\n",
              "    }\n",
              "\n",
              "    [theme=dark] .colab-df-convert:hover {\n",
              "      background-color: #434B5C;\n",
              "      box-shadow: 0px 1px 3px 1px rgba(0, 0, 0, 0.15);\n",
              "      filter: drop-shadow(0px 1px 2px rgba(0, 0, 0, 0.3));\n",
              "      fill: #FFFFFF;\n",
              "    }\n",
              "  </style>\n",
              "\n",
              "      <script>\n",
              "        const buttonEl =\n",
              "          document.querySelector('#df-7df9486b-acd4-430c-ad9e-d27dc2ba3a8e button.colab-df-convert');\n",
              "        buttonEl.style.display =\n",
              "          google.colab.kernel.accessAllowed ? 'block' : 'none';\n",
              "\n",
              "        async function convertToInteractive(key) {\n",
              "          const element = document.querySelector('#df-7df9486b-acd4-430c-ad9e-d27dc2ba3a8e');\n",
              "          const dataTable =\n",
              "            await google.colab.kernel.invokeFunction('convertToInteractive',\n",
              "                                                     [key], {});\n",
              "          if (!dataTable) return;\n",
              "\n",
              "          const docLinkHtml = 'Like what you see? Visit the ' +\n",
              "            '<a target=\"_blank\" href=https://colab.research.google.com/notebooks/data_table.ipynb>data table notebook</a>'\n",
              "            + ' to learn more about interactive tables.';\n",
              "          element.innerHTML = '';\n",
              "          dataTable['output_type'] = 'display_data';\n",
              "          await google.colab.output.renderOutput(dataTable, element);\n",
              "          const docLink = document.createElement('div');\n",
              "          docLink.innerHTML = docLinkHtml;\n",
              "          element.appendChild(docLink);\n",
              "        }\n",
              "      </script>\n",
              "    </div>\n",
              "  </div>\n",
              "  "
            ]
          },
          "metadata": {},
          "execution_count": 80
        }
      ]
    }
  ]
}